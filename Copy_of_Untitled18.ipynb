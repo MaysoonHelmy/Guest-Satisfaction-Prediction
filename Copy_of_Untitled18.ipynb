{
  "cells": [
    {
      "cell_type": "code",
      "execution_count": 5,
      "metadata": {
        "id": "S69iJ70e97q5"
      },
      "outputs": [],
      "source": [
        "import numpy as np\n",
        "import matplotlib.pyplot as plt\n",
        "import pandas as pd\n",
        "import seaborn as sns\n",
        "import pandas as pd\n",
        "from sklearn.preprocessing import LabelEncoder\n",
        "from sklearn.model_selection import train_test_split\n",
        "from sklearn.linear_model import LinearRegression\n",
        "from sklearn.metrics import mean_squared_error"
      ]
    },
    {
      "cell_type": "code",
      "execution_count": 6,
      "metadata": {
        "colab": {
          "base_uri": "https://localhost:8080/"
        },
        "id": "8-JcjpZr_7wF",
        "outputId": "0af124c4-e1b8-4f6c-b5ee-41ea1ab0477c"
      },
      "outputs": [
        {
          "name": "stderr",
          "output_type": "stream",
          "text": [
            "C:\\Users\\dell\\AppData\\Local\\Temp\\ipykernel_14292\\2486922539.py:1: DtypeWarning: Columns (33) have mixed types. Specify dtype option on import or set low_memory=False.\n",
            "  df = pd.read_csv(\"GuestSatisfactionPrediction.csv\")\n"
          ]
        }
      ],
      "source": [
        "df = pd.read_csv(\"GuestSatisfactionPrediction.csv\")"
      ]
    },
    {
      "cell_type": "code",
      "execution_count": 7,
      "metadata": {
        "colab": {
          "base_uri": "https://localhost:8080/"
        },
        "id": "qd15ADkCA_1E",
        "outputId": "88393bc0-ba1f-4e72-8a50-973c2eb90a62"
      },
      "outputs": [
        {
          "name": "stdout",
          "output_type": "stream",
          "text": [
            "<class 'pandas.core.frame.DataFrame'>\n",
            "RangeIndex: 8724 entries, 0 to 8723\n",
            "Data columns (total 69 columns):\n",
            " #   Column                            Non-Null Count  Dtype  \n",
            "---  ------                            --------------  -----  \n",
            " 0   id                                8724 non-null   int64  \n",
            " 1   listing_url                       8724 non-null   object \n",
            " 2   name                              8724 non-null   object \n",
            " 3   summary                           8497 non-null   object \n",
            " 4   space                             7105 non-null   object \n",
            " 5   description                       8630 non-null   object \n",
            " 6   neighborhood_overview             6490 non-null   object \n",
            " 7   notes                             5215 non-null   object \n",
            " 8   transit                           5975 non-null   object \n",
            " 9   access                            6011 non-null   object \n",
            " 10  interaction                       6164 non-null   object \n",
            " 11  house_rules                       6754 non-null   object \n",
            " 12  thumbnail_url                     0 non-null      float64\n",
            " 13  host_id                           8724 non-null   int64  \n",
            " 14  host_url                          8724 non-null   object \n",
            " 15  host_name                         8723 non-null   object \n",
            " 16  host_since                        8723 non-null   object \n",
            " 17  host_location                     8710 non-null   object \n",
            " 18  host_about                        6262 non-null   object \n",
            " 19  host_response_time                7667 non-null   object \n",
            " 20  host_response_rate                7667 non-null   object \n",
            " 21  host_acceptance_rate              0 non-null      float64\n",
            " 22  host_is_superhost                 8723 non-null   object \n",
            " 23  host_neighbourhood                7492 non-null   object \n",
            " 24  host_listings_count               8723 non-null   float64\n",
            " 25  host_total_listings_count         8723 non-null   float64\n",
            " 26  host_has_profile_pic              8723 non-null   object \n",
            " 27  host_identity_verified            8723 non-null   object \n",
            " 28  street                            8724 non-null   object \n",
            " 29  neighbourhood                     8453 non-null   object \n",
            " 30  neighbourhood_cleansed            8724 non-null   object \n",
            " 31  city                              8724 non-null   object \n",
            " 32  state                             8722 non-null   object \n",
            " 33  zipcode                           8638 non-null   object \n",
            " 34  market                            8713 non-null   object \n",
            " 35  smart_location                    8724 non-null   object \n",
            " 36  country_code                      8724 non-null   object \n",
            " 37  country                           8724 non-null   object \n",
            " 38  latitude                          8724 non-null   float64\n",
            " 39  longitude                         8724 non-null   float64\n",
            " 40  is_location_exact                 8724 non-null   object \n",
            " 41  property_type                     8724 non-null   object \n",
            " 42  room_type                         8724 non-null   object \n",
            " 43  accommodates                      8724 non-null   int64  \n",
            " 44  bathrooms                         8723 non-null   float64\n",
            " 45  bedrooms                          8721 non-null   float64\n",
            " 46  beds                              8721 non-null   float64\n",
            " 47  bed_type                          8724 non-null   object \n",
            " 48  amenities                         8724 non-null   object \n",
            " 49  square_feet                       106 non-null    float64\n",
            " 50  nightly_price                     8724 non-null   object \n",
            " 51  price_per_stay                    8724 non-null   object \n",
            " 52  security_deposit                  7280 non-null   object \n",
            " 53  cleaning_fee                      8068 non-null   object \n",
            " 54  guests_included                   8724 non-null   int64  \n",
            " 55  extra_people                      8724 non-null   object \n",
            " 56  minimum_nights                    8724 non-null   int64  \n",
            " 57  maximum_nights                    8724 non-null   int64  \n",
            " 58  number_of_reviews                 8724 non-null   int64  \n",
            " 59  number_of_stays                   8724 non-null   int64  \n",
            " 60  first_review                      8724 non-null   object \n",
            " 61  last_review                       8724 non-null   object \n",
            " 62  review_scores_rating              8724 non-null   float64\n",
            " 63  requires_license                  8724 non-null   object \n",
            " 64  instant_bookable                  8724 non-null   object \n",
            " 65  is_business_travel_ready          8724 non-null   object \n",
            " 66  cancellation_policy               8724 non-null   object \n",
            " 67  require_guest_profile_picture     8724 non-null   object \n",
            " 68  require_guest_phone_verification  8724 non-null   object \n",
            "dtypes: float64(11), int64(8), object(50)\n",
            "memory usage: 4.6+ MB\n"
          ]
        }
      ],
      "source": [
        "df.info()"
      ]
    },
    {
      "cell_type": "code",
      "execution_count": 8,
      "metadata": {
        "colab": {
          "base_uri": "https://localhost:8080/"
        },
        "id": "9m4Iz7_5A_xh",
        "outputId": "728e99a1-f2f9-4a7d-b9e1-0c1b78321026"
      },
      "outputs": [
        {
          "data": {
            "text/plain": [
              "Index(['id', 'listing_url', 'name', 'summary', 'space', 'description',\n",
              "       'neighborhood_overview', 'notes', 'transit', 'access', 'interaction',\n",
              "       'house_rules', 'thumbnail_url', 'host_id', 'host_url', 'host_name',\n",
              "       'host_since', 'host_location', 'host_about', 'host_response_time',\n",
              "       'host_response_rate', 'host_acceptance_rate', 'host_is_superhost',\n",
              "       'host_neighbourhood', 'host_listings_count',\n",
              "       'host_total_listings_count', 'host_has_profile_pic',\n",
              "       'host_identity_verified', 'street', 'neighbourhood',\n",
              "       'neighbourhood_cleansed', 'city', 'state', 'zipcode', 'market',\n",
              "       'smart_location', 'country_code', 'country', 'latitude', 'longitude',\n",
              "       'is_location_exact', 'property_type', 'room_type', 'accommodates',\n",
              "       'bathrooms', 'bedrooms', 'beds', 'bed_type', 'amenities', 'square_feet',\n",
              "       'nightly_price', 'price_per_stay', 'security_deposit', 'cleaning_fee',\n",
              "       'guests_included', 'extra_people', 'minimum_nights', 'maximum_nights',\n",
              "       'number_of_reviews', 'number_of_stays', 'first_review', 'last_review',\n",
              "       'review_scores_rating', 'requires_license', 'instant_bookable',\n",
              "       'is_business_travel_ready', 'cancellation_policy',\n",
              "       'require_guest_profile_picture', 'require_guest_phone_verification'],\n",
              "      dtype='object')"
            ]
          },
          "execution_count": 8,
          "metadata": {},
          "output_type": "execute_result"
        }
      ],
      "source": [
        "df.columns"
      ]
    },
    {
      "cell_type": "code",
      "execution_count": 9,
      "metadata": {
        "colab": {
          "base_uri": "https://localhost:8080/",
          "height": 489
        },
        "id": "tgdLSxdY_Kfm",
        "outputId": "2b25a7e0-ec54-45ba-9008-9919fc6e272b"
      },
      "outputs": [
        {
          "data": {
            "text/plain": [
              "neighbourhood_cleansed\n",
              "Mission Bay             1071\n",
              "Pacific Beach            725\n",
              "La Jolla                 571\n",
              "East Village             514\n",
              "North Hills              504\n",
              "                        ... \n",
              "Yosemite Dr                2\n",
              "Tijuana River Valley       2\n",
              "Lincoln Park               1\n",
              "Thomy Locust Pl            1\n",
              "Eastlake Trails            1\n",
              "Name: count, Length: 102, dtype: int64"
            ]
          },
          "execution_count": 9,
          "metadata": {},
          "output_type": "execute_result"
        }
      ],
      "source": [
        "df.neighbourhood_cleansed.value_counts()"
      ]
    },
    {
      "cell_type": "code",
      "execution_count": 10,
      "metadata": {
        "colab": {
          "base_uri": "https://localhost:8080/",
          "height": 489
        },
        "id": "KInFXhqIK0fs",
        "outputId": "e41e1a35-4ca2-4c17-b695-4a62e9ce1ce6"
      },
      "outputs": [
        {
          "data": {
            "text/plain": [
              "zipcode\n",
              "92109.0       1673\n",
              "92101.0       1182\n",
              "92037.0        555\n",
              "92103.0        538\n",
              "92107.0        516\n",
              "              ... \n",
              "92075.0          1\n",
              "92139            1\n",
              "91901            1\n",
              "92131            1\n",
              "92104-5446       1\n",
              "Name: count, Length: 87, dtype: int64"
            ]
          },
          "execution_count": 10,
          "metadata": {},
          "output_type": "execute_result"
        }
      ],
      "source": [
        "df.zipcode.value_counts()"
      ]
    },
    {
      "cell_type": "code",
      "execution_count": 11,
      "metadata": {
        "colab": {
          "base_uri": "https://localhost:8080/",
          "height": 209
        },
        "id": "px6wIfLfCkzL",
        "outputId": "0cef0f3e-ea75-4b12-f993-4166651bb195"
      },
      "outputs": [
        {
          "data": {
            "text/plain": [
              "country\n",
              "United States     8720\n",
              "Mexico               3\n",
              "United Kingdom       1\n",
              "Name: count, dtype: int64"
            ]
          },
          "execution_count": 11,
          "metadata": {},
          "output_type": "execute_result"
        }
      ],
      "source": [
        "df.country.value_counts()"
      ]
    },
    {
      "cell_type": "code",
      "execution_count": 12,
      "metadata": {
        "colab": {
          "base_uri": "https://localhost:8080/",
          "height": 115
        },
        "id": "0gHK5p9rKn5J",
        "outputId": "443012b5-fb8c-4e45-9fb1-5cdf56c0bf99"
      },
      "outputs": [
        {
          "data": {
            "text/plain": [
              "Series([], Name: count, dtype: int64)"
            ]
          },
          "execution_count": 12,
          "metadata": {},
          "output_type": "execute_result"
        }
      ],
      "source": [
        "df.thumbnail_url.value_counts()"
      ]
    },
    {
      "cell_type": "code",
      "execution_count": 13,
      "metadata": {
        "id": "FhkX2nm3KbN3"
      },
      "outputs": [],
      "source": [
        "##one hot encoding for require_guest_phone_verification / require_guest_profile_picture / instant_bookable / is_location_exact / host_identity_verified /host_has_profile_pic / host_is_superhost\n"
      ]
    },
    {
      "cell_type": "code",
      "execution_count": 14,
      "metadata": {
        "id": "DfEbJMwvWXvx"
      },
      "outputs": [],
      "source": [
        "#Ordinal Encoding for host_response_time of label"
      ]
    },
    {
      "cell_type": "code",
      "execution_count": 15,
      "metadata": {
        "id": "m9LzDjsLRdg8"
      },
      "outputs": [],
      "source": [
        "##Label Encoding for cancellation_policy/ bed_type / room_type /property_type / country /smart_location / market /state /city / street / host_location /"
      ]
    },
    {
      "cell_type": "code",
      "execution_count": 16,
      "metadata": {
        "id": "cFY3GiuVMe2R"
      },
      "outputs": [],
      "source": [
        "## transform to duration first_review /last_review / host_since /\n",
        "\n",
        "## 1,2 del w duratiion host_since with this date w duration"
      ]
    },
    {
      "cell_type": "code",
      "execution_count": 17,
      "metadata": {
        "id": "7pUWCipEazKr"
      },
      "outputs": [],
      "source": [
        "#review_scores_rating targeet"
      ]
    },
    {
      "cell_type": "code",
      "execution_count": 18,
      "metadata": {
        "id": "hPI2YAN9NB34"
      },
      "outputs": [],
      "source": [
        "# MISSING VALUES\n",
        "# transit ya dr hn3ml eeeh"
      ]
    },
    {
      "cell_type": "code",
      "execution_count": 19,
      "metadata": {
        "id": "jckBGvd_Ldcx"
      },
      "outputs": [],
      "source": [
        "## may be encoded / neighbourhood_cleansed replaced by neighbourhood w hn3ml tokenization\n",
        "#host_neighbourhood  encoding using Embeddings"
      ]
    },
    {
      "cell_type": "code",
      "execution_count": 20,
      "metadata": {
        "id": "lI9PLZ6cPSlq"
      },
      "outputs": [],
      "source": [
        "#ameninities lazm extract texts feh w mmkn tt7t kol wa7da fe column as new feature     To convert this string into a usable Python list, follow these steps: One-Hot Encode the Amenities\n",
        "# from wordcloud import WordCloud\n",
        "#wc = WordCloud(width=500,height=500,min_font_size=10,background_color='white')\n",
        "#spam_wc = wc.generate(df[df['label_num'] == 1]['text_transformed'].str.cat(sep=\" \"))\n",
        "#plt.figure(figsize=(15,6))\n",
        "#plt.imshow(spam_wc)"
      ]
    },
    {
      "cell_type": "code",
      "execution_count": 21,
      "metadata": {
        "id": "ApqZi32gLAAD"
      },
      "outputs": [],
      "source": [
        "## could be dropped              #features dublicated\n",
        "# is_business_travel_ready / requires_license /host_about / host_acceptance_rate / thumbnail_url /square_feet /neighbourhood / notes / id / country_code /host_name / name / listing_url  / host_url"
      ]
    },
    {
      "cell_type": "code",
      "execution_count": 22,
      "metadata": {
        "id": "vccmt2sgWBVa"
      },
      "outputs": [],
      "source": [
        "#host_response_rate remove %"
      ]
    },
    {
      "cell_type": "code",
      "execution_count": 23,
      "metadata": {
        "id": "b7B--imdWm1c"
      },
      "outputs": [],
      "source": [
        "# string to be rewviewed neighbourhood_cleansed/ ameninities / house_rules / interaction / access / transit / notes / neighborhood_overview / space / summary / discrition"
      ]
    },
    {
      "cell_type": "code",
      "execution_count": 24,
      "metadata": {
        "id": "XDMi4e9tZJRf"
      },
      "outputs": [],
      "source": [
        "# name 8672 rows × 1 columns could be replaced wih another column & deleted or encoded"
      ]
    },
    {
      "cell_type": "code",
      "execution_count": 25,
      "metadata": {
        "colab": {
          "base_uri": "https://localhost:8080/"
        },
        "id": "noL_dWF7Qoof",
        "outputId": "7e978235-96f5-4822-ee5c-84ef2e5436a4"
      },
      "outputs": [],
      "source": [
        "#df['square_feet'].isnull().sum() #8724 rows  #8618 nulls"
      ]
    },
    {
      "cell_type": "code",
      "execution_count": 26,
      "metadata": {
        "colab": {
          "base_uri": "https://localhost:8080/"
        },
        "id": "Vq4bgXayRPve",
        "outputId": "df6f746f-1aad-4828-fb95-1a235807fac7"
      },
      "outputs": [
        {
          "data": {
            "text/plain": [
              "0"
            ]
          },
          "execution_count": 26,
          "metadata": {},
          "output_type": "execute_result"
        }
      ],
      "source": [
        "#8672 rows × 1 columns           8724 rows\n",
        "df['name'].isnull().sum()"
      ]
    },
    {
      "cell_type": "code",
      "execution_count": 27,
      "metadata": {
        "id": "j4mLUOhw5Rhm"
      },
      "outputs": [],
      "source": [
        "binary_columns = [\n",
        "    'require_guest_phone_verification',\n",
        "    'require_guest_profile_picture',\n",
        "    'instant_bookable',\n",
        "    'is_location_exact',\n",
        "    'host_identity_verified',\n",
        "    'host_has_profile_pic',\n",
        "    'is_business_travel_ready',\n",
        "    'host_is_superhost',\n",
        "]\n"
      ]
    },
    {
      "cell_type": "code",
      "execution_count": 28,
      "metadata": {
        "colab": {
          "base_uri": "https://localhost:8080/"
        },
        "id": "gcIj8S_38ohF",
        "outputId": "45d874d9-4099-465e-f87d-f1c4971e5c60"
      },
      "outputs": [
        {
          "name": "stderr",
          "output_type": "stream",
          "text": [
            "C:\\Users\\dell\\AppData\\Local\\Temp\\ipykernel_14292\\2260794318.py:1: FutureWarning: A value is trying to be set on a copy of a DataFrame or Series through chained assignment using an inplace method.\n",
            "The behavior will change in pandas 3.0. This inplace method will never work because the intermediate object on which we are setting values always behaves as a copy.\n",
            "\n",
            "For example, when doing 'df[col].method(value, inplace=True)', try using 'df.method({col: value}, inplace=True)' or df[col] = df[col].method(value) instead, to perform the operation inplace on the original object.\n",
            "\n",
            "\n",
            "  df['require_guest_phone_verification'].replace({ 1: \"t\", 0:\"f\"},inplace=True)\n",
            "C:\\Users\\dell\\AppData\\Local\\Temp\\ipykernel_14292\\2260794318.py:4: FutureWarning: A value is trying to be set on a copy of a DataFrame or Series through chained assignment using an inplace method.\n",
            "The behavior will change in pandas 3.0. This inplace method will never work because the intermediate object on which we are setting values always behaves as a copy.\n",
            "\n",
            "For example, when doing 'df[col].method(value, inplace=True)', try using 'df.method({col: value}, inplace=True)' or df[col] = df[col].method(value) instead, to perform the operation inplace on the original object.\n",
            "\n",
            "\n",
            "  df['require_guest_profile_picture'] = df['require_guest_profile_picture'].replace({ 1: \"t\", 0:\"f\"},inplace=True)\n",
            "C:\\Users\\dell\\AppData\\Local\\Temp\\ipykernel_14292\\2260794318.py:5: FutureWarning: A value is trying to be set on a copy of a DataFrame or Series through chained assignment using an inplace method.\n",
            "The behavior will change in pandas 3.0. This inplace method will never work because the intermediate object on which we are setting values always behaves as a copy.\n",
            "\n",
            "For example, when doing 'df[col].method(value, inplace=True)', try using 'df.method({col: value}, inplace=True)' or df[col] = df[col].method(value) instead, to perform the operation inplace on the original object.\n",
            "\n",
            "\n",
            "  df['instant_bookable']=df['instant_bookable'].replace({ 1: \"t\", 0:\"f\"},inplace=True)\n",
            "C:\\Users\\dell\\AppData\\Local\\Temp\\ipykernel_14292\\2260794318.py:6: FutureWarning: A value is trying to be set on a copy of a DataFrame or Series through chained assignment using an inplace method.\n",
            "The behavior will change in pandas 3.0. This inplace method will never work because the intermediate object on which we are setting values always behaves as a copy.\n",
            "\n",
            "For example, when doing 'df[col].method(value, inplace=True)', try using 'df.method({col: value}, inplace=True)' or df[col] = df[col].method(value) instead, to perform the operation inplace on the original object.\n",
            "\n",
            "\n",
            "  df['is_location_exact']=df['is_location_exact'].replace({ 1: \"t\", 0:\"f\"},inplace=True)\n",
            "C:\\Users\\dell\\AppData\\Local\\Temp\\ipykernel_14292\\2260794318.py:7: FutureWarning: A value is trying to be set on a copy of a DataFrame or Series through chained assignment using an inplace method.\n",
            "The behavior will change in pandas 3.0. This inplace method will never work because the intermediate object on which we are setting values always behaves as a copy.\n",
            "\n",
            "For example, when doing 'df[col].method(value, inplace=True)', try using 'df.method({col: value}, inplace=True)' or df[col] = df[col].method(value) instead, to perform the operation inplace on the original object.\n",
            "\n",
            "\n",
            "  df['host_identity_verified']=df['host_identity_verified'].replace({ 1: \"t\", 0:\"f\"},inplace=True)\n",
            "C:\\Users\\dell\\AppData\\Local\\Temp\\ipykernel_14292\\2260794318.py:8: FutureWarning: A value is trying to be set on a copy of a DataFrame or Series through chained assignment using an inplace method.\n",
            "The behavior will change in pandas 3.0. This inplace method will never work because the intermediate object on which we are setting values always behaves as a copy.\n",
            "\n",
            "For example, when doing 'df[col].method(value, inplace=True)', try using 'df.method({col: value}, inplace=True)' or df[col] = df[col].method(value) instead, to perform the operation inplace on the original object.\n",
            "\n",
            "\n",
            "  df['host_has_profile_pic']=df['host_has_profile_pic'].replace({ 1: \"t\", 0:\"f\"},inplace=True)\n",
            "C:\\Users\\dell\\AppData\\Local\\Temp\\ipykernel_14292\\2260794318.py:9: FutureWarning: A value is trying to be set on a copy of a DataFrame or Series through chained assignment using an inplace method.\n",
            "The behavior will change in pandas 3.0. This inplace method will never work because the intermediate object on which we are setting values always behaves as a copy.\n",
            "\n",
            "For example, when doing 'df[col].method(value, inplace=True)', try using 'df.method({col: value}, inplace=True)' or df[col] = df[col].method(value) instead, to perform the operation inplace on the original object.\n",
            "\n",
            "\n",
            "  df['is_business_travel_ready'] =df['is_business_travel_ready'].replace({ 1: \"t\", 0:\"f\"},inplace=True)\n",
            "C:\\Users\\dell\\AppData\\Local\\Temp\\ipykernel_14292\\2260794318.py:10: FutureWarning: A value is trying to be set on a copy of a DataFrame or Series through chained assignment using an inplace method.\n",
            "The behavior will change in pandas 3.0. This inplace method will never work because the intermediate object on which we are setting values always behaves as a copy.\n",
            "\n",
            "For example, when doing 'df[col].method(value, inplace=True)', try using 'df.method({col: value}, inplace=True)' or df[col] = df[col].method(value) instead, to perform the operation inplace on the original object.\n",
            "\n",
            "\n",
            "  df['host_is_superhost']=df['host_is_superhost'].replace({ 1: \"t\", 0:\"f\"},inplace=True)\n"
          ]
        }
      ],
      "source": [
        "df['require_guest_phone_verification'].replace({ 1: \"t\", 0:\"f\"},inplace=True)\n",
        "df['require_guest_phone_verification'] = df['require_guest_phone_verification'].replace({1: \"t\", 0: \"f\"})\n",
        "\n",
        "df['require_guest_profile_picture'] = df['require_guest_profile_picture'].replace({ 1: \"t\", 0:\"f\"},inplace=True)\n",
        "df['instant_bookable']=df['instant_bookable'].replace({ 1: \"t\", 0:\"f\"},inplace=True)\n",
        "df['is_location_exact']=df['is_location_exact'].replace({ 1: \"t\", 0:\"f\"},inplace=True)\n",
        "df['host_identity_verified']=df['host_identity_verified'].replace({ 1: \"t\", 0:\"f\"},inplace=True)\n",
        "df['host_has_profile_pic']=df['host_has_profile_pic'].replace({ 1: \"t\", 0:\"f\"},inplace=True)\n",
        "df['is_business_travel_ready'] =df['is_business_travel_ready'].replace({ 1: \"t\", 0:\"f\"},inplace=True)\n",
        "df['host_is_superhost']=df['host_is_superhost'].replace({ 1: \"t\", 0:\"f\"},inplace=True)\n"
      ]
    },
    {
      "cell_type": "code",
      "execution_count": 29,
      "metadata": {
        "id": "c52XW_r06UhK"
      },
      "outputs": [],
      "source": [
        "label_cols = [\n",
        "    'cancellation_policy', 'bed_type', 'room_type', 'property_type',\n",
        "    'country', 'smart_location', 'market', 'state', 'city', 'street', 'host_location'\n",
        "]\n",
        "\n",
        "# Initialize a dictionary to store the encoders\n",
        "label_encoders = {}\n",
        "\n",
        "# Apply LabelEncoder to each column\n",
        "for col in label_cols:\n",
        "    le = LabelEncoder()\n",
        "    df[col] = le.fit_transform(df[col].astype(str))\n",
        "    label_encoders[col] = le  # Store the encoder for future use"
      ]
    },
    {
      "cell_type": "code",
      "execution_count": 30,
      "metadata": {
        "colab": {
          "base_uri": "https://localhost:8080/",
          "height": 689
        },
        "id": "Sc54ik9M7sMl",
        "outputId": "59d10817-dd6b-4330-dd02-cc809ca632b6"
      },
      "outputs": [
        {
          "data": {
            "text/html": [
              "<div>\n",
              "<style scoped>\n",
              "    .dataframe tbody tr th:only-of-type {\n",
              "        vertical-align: middle;\n",
              "    }\n",
              "\n",
              "    .dataframe tbody tr th {\n",
              "        vertical-align: top;\n",
              "    }\n",
              "\n",
              "    .dataframe thead th {\n",
              "        text-align: right;\n",
              "    }\n",
              "</style>\n",
              "<table border=\"1\" class=\"dataframe\">\n",
              "  <thead>\n",
              "    <tr style=\"text-align: right;\">\n",
              "      <th></th>\n",
              "      <th>id</th>\n",
              "      <th>listing_url</th>\n",
              "      <th>name</th>\n",
              "      <th>summary</th>\n",
              "      <th>space</th>\n",
              "      <th>description</th>\n",
              "      <th>neighborhood_overview</th>\n",
              "      <th>notes</th>\n",
              "      <th>transit</th>\n",
              "      <th>access</th>\n",
              "      <th>...</th>\n",
              "      <th>number_of_stays</th>\n",
              "      <th>first_review</th>\n",
              "      <th>last_review</th>\n",
              "      <th>review_scores_rating</th>\n",
              "      <th>requires_license</th>\n",
              "      <th>instant_bookable</th>\n",
              "      <th>is_business_travel_ready</th>\n",
              "      <th>cancellation_policy</th>\n",
              "      <th>require_guest_profile_picture</th>\n",
              "      <th>require_guest_phone_verification</th>\n",
              "    </tr>\n",
              "  </thead>\n",
              "  <tbody>\n",
              "    <tr>\n",
              "      <th>0</th>\n",
              "      <td>21514496</td>\n",
              "      <td>https://www.airbnb.com/rooms/21514496</td>\n",
              "      <td>PRIVATE BEDROOM DOWNTOWN 2 BED/ 2 BATH #5</td>\n",
              "      <td>Beautiful 2 bedroom 2 bathroom furnished apart...</td>\n",
              "      <td>Each apartment is fully furnished and consists...</td>\n",
              "      <td>Beautiful 2 bedroom 2 bathroom furnished apart...</td>\n",
              "      <td>NaN</td>\n",
              "      <td>***Note that the pictures on the website may o...</td>\n",
              "      <td>NaN</td>\n",
              "      <td>NaN</td>\n",
              "      <td>...</td>\n",
              "      <td>2</td>\n",
              "      <td>11/17/2017</td>\n",
              "      <td>11/17/2017</td>\n",
              "      <td>80.0</td>\n",
              "      <td>f</td>\n",
              "      <td>None</td>\n",
              "      <td>None</td>\n",
              "      <td>3</td>\n",
              "      <td>None</td>\n",
              "      <td>f</td>\n",
              "    </tr>\n",
              "    <tr>\n",
              "      <th>1</th>\n",
              "      <td>990185</td>\n",
              "      <td>https://www.airbnb.com/rooms/990185</td>\n",
              "      <td>4 bed/2 ba Family Retreat in SD</td>\n",
              "      <td>We feel our house is a great place for a famil...</td>\n",
              "      <td>Our house is ideal for large families or group...</td>\n",
              "      <td>We feel our house is a great place for a famil...</td>\n",
              "      <td>Neighborhood Mira Mesa is a culturally diverse...</td>\n",
              "      <td>NaN</td>\n",
              "      <td>NaN</td>\n",
              "      <td>Our guests may use the BBQ grill.</td>\n",
              "      <td>...</td>\n",
              "      <td>26</td>\n",
              "      <td>8/2/2013</td>\n",
              "      <td>7/31/2019</td>\n",
              "      <td>97.0</td>\n",
              "      <td>f</td>\n",
              "      <td>None</td>\n",
              "      <td>None</td>\n",
              "      <td>1</td>\n",
              "      <td>None</td>\n",
              "      <td>f</td>\n",
              "    </tr>\n",
              "    <tr>\n",
              "      <th>2</th>\n",
              "      <td>19878244</td>\n",
              "      <td>https://www.airbnb.com/rooms/19878244</td>\n",
              "      <td>San Diego Dream Villa</td>\n",
              "      <td>Zen, Luxury and the Best Location in Americas ...</td>\n",
              "      <td>San Diego Dream Villa, this unique and luxurio...</td>\n",
              "      <td>Zen, Luxury and the Best Location in Americas ...</td>\n",
              "      <td>This amazing house is located within a few min...</td>\n",
              "      <td>Im always available to make your trip experien...</td>\n",
              "      <td>If you are bringing your car, remember that SD...</td>\n",
              "      <td>A couple of days before your arrival you will ...</td>\n",
              "      <td>...</td>\n",
              "      <td>170</td>\n",
              "      <td>7/23/2017</td>\n",
              "      <td>7/16/2019</td>\n",
              "      <td>98.0</td>\n",
              "      <td>f</td>\n",
              "      <td>None</td>\n",
              "      <td>None</td>\n",
              "      <td>3</td>\n",
              "      <td>None</td>\n",
              "      <td>f</td>\n",
              "    </tr>\n",
              "    <tr>\n",
              "      <th>3</th>\n",
              "      <td>24561458</td>\n",
              "      <td>https://www.airbnb.com/rooms/24561458</td>\n",
              "      <td>Studio with Piazza View in Downtown Little Italy</td>\n",
              "      <td>Start the day with breakfast on the sunny pati...</td>\n",
              "      <td>Newly built, this beautiful studio is located ...</td>\n",
              "      <td>Start the day with breakfast on the sunny pati...</td>\n",
              "      <td>Spend the day at the zoo in Balboa Park, or ex...</td>\n",
              "      <td>The apartment is located on the Piazza Della F...</td>\n",
              "      <td>MTS, Train, and Trolly are close by. The airpo...</td>\n",
              "      <td>You will not be sharing the apartment with any...</td>\n",
              "      <td>...</td>\n",
              "      <td>212</td>\n",
              "      <td>5/1/2018</td>\n",
              "      <td>8/3/2019</td>\n",
              "      <td>98.0</td>\n",
              "      <td>f</td>\n",
              "      <td>None</td>\n",
              "      <td>None</td>\n",
              "      <td>1</td>\n",
              "      <td>None</td>\n",
              "      <td>f</td>\n",
              "    </tr>\n",
              "    <tr>\n",
              "      <th>4</th>\n",
              "      <td>32269829</td>\n",
              "      <td>https://www.airbnb.com/rooms/32269829</td>\n",
              "      <td>Beachside Retreat w/ Private Rooftop Deck w/ V...</td>\n",
              "      <td>This is a  2 bedroom/1 bathroom beachside unit...</td>\n",
              "      <td>Beach living at its finest!  The highlight of ...</td>\n",
              "      <td>This is a  2 bedroom/1 bathroom beachside unit...</td>\n",
              "      <td>Mission Beach is an amazing coastal community ...</td>\n",
              "      <td>NaN</td>\n",
              "      <td>The Boardwalk and Bayside Walk are wonderful w...</td>\n",
              "      <td>This is a private home that is part of a typic...</td>\n",
              "      <td>...</td>\n",
              "      <td>2</td>\n",
              "      <td>6/30/2019</td>\n",
              "      <td>6/30/2019</td>\n",
              "      <td>100.0</td>\n",
              "      <td>f</td>\n",
              "      <td>None</td>\n",
              "      <td>None</td>\n",
              "      <td>3</td>\n",
              "      <td>None</td>\n",
              "      <td>f</td>\n",
              "    </tr>\n",
              "  </tbody>\n",
              "</table>\n",
              "<p>5 rows × 69 columns</p>\n",
              "</div>"
            ],
            "text/plain": [
              "         id                            listing_url  \\\n",
              "0  21514496  https://www.airbnb.com/rooms/21514496   \n",
              "1    990185    https://www.airbnb.com/rooms/990185   \n",
              "2  19878244  https://www.airbnb.com/rooms/19878244   \n",
              "3  24561458  https://www.airbnb.com/rooms/24561458   \n",
              "4  32269829  https://www.airbnb.com/rooms/32269829   \n",
              "\n",
              "                                                name  \\\n",
              "0          PRIVATE BEDROOM DOWNTOWN 2 BED/ 2 BATH #5   \n",
              "1                    4 bed/2 ba Family Retreat in SD   \n",
              "2                              San Diego Dream Villa   \n",
              "3   Studio with Piazza View in Downtown Little Italy   \n",
              "4  Beachside Retreat w/ Private Rooftop Deck w/ V...   \n",
              "\n",
              "                                             summary  \\\n",
              "0  Beautiful 2 bedroom 2 bathroom furnished apart...   \n",
              "1  We feel our house is a great place for a famil...   \n",
              "2  Zen, Luxury and the Best Location in Americas ...   \n",
              "3  Start the day with breakfast on the sunny pati...   \n",
              "4  This is a  2 bedroom/1 bathroom beachside unit...   \n",
              "\n",
              "                                               space  \\\n",
              "0  Each apartment is fully furnished and consists...   \n",
              "1  Our house is ideal for large families or group...   \n",
              "2  San Diego Dream Villa, this unique and luxurio...   \n",
              "3  Newly built, this beautiful studio is located ...   \n",
              "4  Beach living at its finest!  The highlight of ...   \n",
              "\n",
              "                                         description  \\\n",
              "0  Beautiful 2 bedroom 2 bathroom furnished apart...   \n",
              "1  We feel our house is a great place for a famil...   \n",
              "2  Zen, Luxury and the Best Location in Americas ...   \n",
              "3  Start the day with breakfast on the sunny pati...   \n",
              "4  This is a  2 bedroom/1 bathroom beachside unit...   \n",
              "\n",
              "                               neighborhood_overview  \\\n",
              "0                                                NaN   \n",
              "1  Neighborhood Mira Mesa is a culturally diverse...   \n",
              "2  This amazing house is located within a few min...   \n",
              "3  Spend the day at the zoo in Balboa Park, or ex...   \n",
              "4  Mission Beach is an amazing coastal community ...   \n",
              "\n",
              "                                               notes  \\\n",
              "0  ***Note that the pictures on the website may o...   \n",
              "1                                                NaN   \n",
              "2  Im always available to make your trip experien...   \n",
              "3  The apartment is located on the Piazza Della F...   \n",
              "4                                                NaN   \n",
              "\n",
              "                                             transit  \\\n",
              "0                                                NaN   \n",
              "1                                                NaN   \n",
              "2  If you are bringing your car, remember that SD...   \n",
              "3  MTS, Train, and Trolly are close by. The airpo...   \n",
              "4  The Boardwalk and Bayside Walk are wonderful w...   \n",
              "\n",
              "                                              access  ... number_of_stays  \\\n",
              "0                                                NaN  ...               2   \n",
              "1                  Our guests may use the BBQ grill.  ...              26   \n",
              "2  A couple of days before your arrival you will ...  ...             170   \n",
              "3  You will not be sharing the apartment with any...  ...             212   \n",
              "4  This is a private home that is part of a typic...  ...               2   \n",
              "\n",
              "  first_review  last_review  review_scores_rating requires_license  \\\n",
              "0   11/17/2017   11/17/2017                  80.0                f   \n",
              "1     8/2/2013    7/31/2019                  97.0                f   \n",
              "2    7/23/2017    7/16/2019                  98.0                f   \n",
              "3     5/1/2018     8/3/2019                  98.0                f   \n",
              "4    6/30/2019    6/30/2019                 100.0                f   \n",
              "\n",
              "  instant_bookable is_business_travel_ready  cancellation_policy  \\\n",
              "0             None                     None                    3   \n",
              "1             None                     None                    1   \n",
              "2             None                     None                    3   \n",
              "3             None                     None                    1   \n",
              "4             None                     None                    3   \n",
              "\n",
              "  require_guest_profile_picture require_guest_phone_verification  \n",
              "0                          None                                f  \n",
              "1                          None                                f  \n",
              "2                          None                                f  \n",
              "3                          None                                f  \n",
              "4                          None                                f  \n",
              "\n",
              "[5 rows x 69 columns]"
            ]
          },
          "execution_count": 30,
          "metadata": {},
          "output_type": "execute_result"
        }
      ],
      "source": [
        "df.head()"
      ]
    },
    {
      "cell_type": "code",
      "execution_count": 31,
      "metadata": {},
      "outputs": [
        {
          "name": "stdout",
          "output_type": "stream",
          "text": [
            "  extra_people first_review last_review\n",
            "0       $0.00    11/17/2017  11/17/2017\n",
            "1      $15.00      8/2/2013   7/31/2019\n",
            "2      $14.00     7/23/2017   7/16/2019\n",
            "3       $0.00      5/1/2018    8/3/2019\n",
            "4      $20.00     6/30/2019   6/30/2019\n"
          ]
        }
      ],
      "source": [
        "print(df[['extra_people', 'first_review', 'last_review']].head())\n"
      ]
    }
  ],
  "metadata": {
    "colab": {
      "provenance": []
    },
    "kernelspec": {
      "display_name": "base",
      "language": "python",
      "name": "python3"
    },
    "language_info": {
      "codemirror_mode": {
        "name": "ipython",
        "version": 3
      },
      "file_extension": ".py",
      "mimetype": "text/x-python",
      "name": "python",
      "nbconvert_exporter": "python",
      "pygments_lexer": "ipython3",
      "version": "3.12.7"
    }
  },
  "nbformat": 4,
  "nbformat_minor": 0
}
